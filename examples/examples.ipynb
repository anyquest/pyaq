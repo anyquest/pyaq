{
 "cells": [
  {
   "cell_type": "code",
   "execution_count": 1,
   "id": "initial_id",
   "metadata": {
    "ExecuteTime": {
     "end_time": "2023-12-17T18:47:15.002284Z",
     "start_time": "2023-12-17T18:47:14.175748Z"
    }
   },
   "outputs": [],
   "source": [
    "import os\n",
    "import sys\n",
    "from dotenv import find_dotenv\n",
    "\n",
    "root = os.path.dirname(find_dotenv())\n",
    "sys.path.append(root)\n",
    "\n",
    "files_dir = os.path.join(root, 'examples', 'files')\n",
    "apps_dir = os.path.join(root, 'examples' , 'apps')\n",
    "\n",
    "from aq import get_broker\n",
    "broker = get_broker()"
   ]
  },
  {
   "cell_type": "markdown",
   "metadata": {},
   "source": [
    "Analyze a market report and recommend investment strategies:"
   ],
   "id": "4392ba0c11ec0697"
  },
  {
   "cell_type": "code",
   "execution_count": 4,
   "id": "6b10725e62dd9c2",
   "metadata": {
    "collapsed": false,
    "ExecuteTime": {
     "end_time": "2023-12-17T18:43:59.339404Z",
     "start_time": "2023-12-17T18:43:25.856948Z"
    }
   },
   "outputs": [
    {
     "name": "stdout",
     "output_type": "stream",
     "text": [
      "[2023-12-17 13:43:25,860] [INFO] [SemanticBroker]: Loaded /Users/dmitri/Projects/pyaq/examples/apps/investments.yml\n",
      "[2023-12-17 13:43:25,860] [DEBUG] [JobScheduler]: Worker 0 performing read_content\n",
      "[2023-12-17 13:43:26,396] [DEBUG] [JobScheduler]: Finished read_content in 0 sec.\n",
      "[2023-12-17 13:43:26,396] [DEBUG] [JobScheduler]: Worker 0 performing create_summary\n",
      "[2023-12-17 13:43:26,403] [DEBUG] [JobScheduler]: Worker 1 performing generate_strategies\n",
      "[2023-12-17 13:43:35,974] [DEBUG] [SummarizeActivity]: Finished with reason stop in 9 sec.\n",
      "[2023-12-17 13:43:35,975] [DEBUG] [JobScheduler]: Finished create_summary in 9 sec.\n",
      "[2023-12-17 13:43:59,323] [DEBUG] [GenerateActivity]: Finished with reason stop in 32 sec.\n",
      "[2023-12-17 13:43:59,324] [DEBUG] [JobScheduler]: Finished generate_strategies in 32 sec.\n",
      "[2023-12-17 13:43:59,324] [DEBUG] [JobScheduler]: Worker 1 performing write_summary\n",
      "[2023-12-17 13:43:59,330] [DEBUG] [JobScheduler]: Finished write_summary in 0 sec.\n",
      "[2023-12-17 13:43:59,331] [DEBUG] [JobScheduler]: Finished work items\n"
     ]
    },
    {
     "data": {
      "text/plain": "{'write_summary': ['./out/report_MiwPJmCs.html']}"
     },
     "execution_count": 4,
     "metadata": {},
     "output_type": "execute_result"
    }
   ],
   "source": [
    "await broker.run(app_file=os.path.join(apps_dir, \"investments.yml\"), \n",
    "                 activity_name=\"read_content\", \n",
    "                 file_path=os.path.join(files_dir, \"report.pdf\"))"
   ]
  },
  {
   "cell_type": "markdown",
   "metadata": {},
   "source": [
    "Extract contact information from an email:"
   ],
   "id": "7ce45109cc89232c"
  },
  {
   "cell_type": "code",
   "execution_count": null,
   "id": "ec5834ab2c2d5878",
   "metadata": {
    "collapsed": false
   },
   "outputs": [],
   "source": [
    "await broker.run(app_file=os.path.join(apps_dir, \"extract.yml\"), \n",
    "                 activity_name=\"read_content\", \n",
    "                 file_path=os.path.join(files_dir, \"email.txt\"))"
   ]
  },
  {
   "cell_type": "markdown",
   "metadata": {},
   "source": [
    "Perform web search to enrich contacts with additional information: "
   ],
   "id": "b8729ebba6954abf"
  },
  {
   "cell_type": "code",
   "execution_count": 2,
   "id": "6d42d79b0e67e86e",
   "metadata": {
    "collapsed": false,
    "ExecuteTime": {
     "end_time": "2023-12-17T18:05:33.352828Z",
     "start_time": "2023-12-17T18:05:27.813120Z"
    }
   },
   "outputs": [
    {
     "name": "stdout",
     "output_type": "stream",
     "text": [
      "[2023-12-17 13:05:27,814] [INFO] [SemanticBroker]: Loaded /Users/dmitri/Projects/pyaq/examples/apps/enrich.yml\n",
      "[2023-12-17 13:05:27,815] [DEBUG] [JobScheduler]: Worker 0 performing read_content\n",
      "[2023-12-17 13:05:27,822] [DEBUG] [JobScheduler]: Finished read_content in 0 sec.\n",
      "[2023-12-17 13:05:27,823] [DEBUG] [JobScheduler]: Worker 0 performing enrich_contacts\n",
      "[2023-12-17 13:05:27,850] [DEBUG] [JobScheduler]: Worker 1 performing enrich_contacts\n",
      "[2023-12-17 13:05:29,316] [DEBUG] [GenerateActivity]: Calling websearch__search\n",
      "[2023-12-17 13:05:29,317] [DEBUG] [WebTool]: query = Dmitri Tcherevik LinkedIn\n",
      "[2023-12-17 13:05:29,783] [DEBUG] [GenerateActivity]: Calling websearch__search\n",
      "[2023-12-17 13:05:29,784] [DEBUG] [WebTool]: query = Helen Fu Thomas Founder AnyQuest, Inc. LinkedIn\n",
      "[2023-12-17 13:05:32,235] [DEBUG] [GenerateActivity]: Finished with reason stop in 4 sec.\n",
      "[2023-12-17 13:05:32,236] [DEBUG] [JobScheduler]: Finished enrich_contacts in 4 sec.\n",
      "[2023-12-17 13:05:33,338] [DEBUG] [GenerateActivity]: Finished with reason stop in 5 sec.\n",
      "[2023-12-17 13:05:33,339] [DEBUG] [JobScheduler]: Finished enrich_contacts in 5 sec.\n",
      "[2023-12-17 13:05:33,339] [DEBUG] [JobScheduler]: Worker 1 performing save_contacts\n",
      "[2023-12-17 13:05:33,342] [DEBUG] [JobScheduler]: Finished save_contacts in 0 sec.\n",
      "[2023-12-17 13:05:33,343] [DEBUG] [JobScheduler]: Finished work items\n"
     ]
    },
    {
     "data": {
      "text/plain": "{'save_contacts': ['./out/contacts_IomfdRKU.json']}"
     },
     "execution_count": 2,
     "metadata": {},
     "output_type": "execute_result"
    }
   ],
   "source": [
    "await broker.run(app_file=os.path.join(apps_dir, \"enrich.yml\"), \n",
    "                 activity_name=\"read_content\", \n",
    "                 file_path=os.path.join(files_dir, \"contacts.json\"))"
   ]
  },
  {
   "cell_type": "markdown",
   "metadata": {},
   "source": [
    "A simple RAG pipeline: \n",
    "1. Store a document in the app's memory \n",
    "2. Use the document to answer a question "
   ],
   "id": "d1bd02ef8573cda5"
  },
  {
   "cell_type": "code",
   "execution_count": null,
   "id": "4547160c642db744",
   "metadata": {
    "collapsed": false
   },
   "outputs": [],
   "source": [
    "# Store the report in app's memory \n",
    "await broker.run(app_file=os.path.join(apps_dir, \"rag.yml\"), \n",
    "                 activity_name=\"read_content\", \n",
    "                 file_path=os.path.join(files_dir, \"report.pdf\"))\n",
    "\n",
    "# Answer a question using data in the report \n",
    "await broker.run(app_file=os.path.join(apps_dir, \"rag.yml\"), \n",
    "                 activity_name=\"read_question\", \n",
    "                 file_path=os.path.join(files_dir, \"question.txt\"))"
   ]
  },
  {
   "cell_type": "markdown",
   "metadata": {},
   "source": [
    "Answer multiple questions by launching RAG tasks in parallel:"
   ],
   "id": "90883022de01af8"
  },
  {
   "cell_type": "code",
   "execution_count": null,
   "id": "2d4cfb4c",
   "metadata": {},
   "outputs": [],
   "source": [
    "# Store the report in app's memory \n",
    "await broker.run(app_file=os.path.join(apps_dir, \"qna.yml\"), \n",
    "                 activity_name=\"read_content\", \n",
    "                 file_path=os.path.join(files_dir, \"report.pdf\"))\n",
    "\n",
    "# Answer multiple questions using data in the report \n",
    "await broker.run(app_file=os.path.join(apps_dir, \"qna.yml\"), \n",
    "                 activity_name=\"read_questions\", \n",
    "                 file_path=os.path.join(files_dir, \"questions.json\"))"
   ]
  },
  {
   "cell_type": "markdown",
   "metadata": {},
   "source": [
    "The following cell requires an external REST service for mapping IP addresses to company information. "
   ],
   "id": "8bf76bb1456336fc"
  },
  {
   "cell_type": "code",
   "execution_count": null,
   "metadata": {},
   "outputs": [],
   "source": [
    "await broker.run(app_file=os.path.join(apps_dir, \"prospecting.yml\"), \n",
    "                 activity_name=\"read_request\", \n",
    "                 file_path=os.path.join(files_dir, \"prospecting.json\"))"
   ],
   "id": "78c1bc2fdcb2c65e"
  },
  {
   "cell_type": "markdown",
   "source": [
    "Create an insurance accident report based on the image of a damaged vehicle"
   ],
   "metadata": {
    "collapsed": false
   },
   "id": "eeaa16c014b239ff"
  },
  {
   "cell_type": "code",
   "execution_count": 2,
   "outputs": [
    {
     "name": "stdout",
     "output_type": "stream",
     "text": [
      "[2023-12-17 13:47:18,395] [INFO] [SemanticBroker]: Loaded /Users/dmitri/Projects/pyaq/examples/apps/accident_report.yml\n",
      "[2023-12-17 13:47:18,396] [DEBUG] [JobScheduler]: Worker 0 performing read_image\n",
      "[2023-12-17 13:47:18,406] [DEBUG] [JobScheduler]: Finished read_image in 0 sec.\n",
      "[2023-12-17 13:47:18,408] [DEBUG] [JobScheduler]: Worker 0 performing report_damage\n",
      "[2023-12-17 13:47:41,734] [DEBUG] [GenerateActivity]: Finished with reason stop in 23 sec.\n",
      "[2023-12-17 13:47:41,735] [DEBUG] [JobScheduler]: Finished report_damage in 23 sec.\n",
      "[2023-12-17 13:47:41,735] [DEBUG] [JobScheduler]: Worker 0 performing write_answer\n",
      "[2023-12-17 13:47:41,823] [DEBUG] [JobScheduler]: Finished write_answer in 0 sec.\n",
      "[2023-12-17 13:47:41,824] [DEBUG] [JobScheduler]: Finished work items\n"
     ]
    },
    {
     "data": {
      "text/plain": "{'write_answer': ['./out/accident_report_rXapiHiN.html']}"
     },
     "execution_count": 2,
     "metadata": {},
     "output_type": "execute_result"
    }
   ],
   "source": [
    "await broker.run(app_file=os.path.join(apps_dir, \"accident_report.yml\"),\n",
    "                 activity_name=\"read_image\",\n",
    "                 file_path=os.path.join(files_dir, \"accident_report.jpg\"))"
   ],
   "metadata": {
    "collapsed": false,
    "ExecuteTime": {
     "end_time": "2023-12-17T18:47:41.835155Z",
     "start_time": "2023-12-17T18:47:18.393470Z"
    }
   },
   "id": "d288f81ff31f5dbc"
  }
 ],
 "metadata": {
  "kernelspec": {
   "display_name": "Python 3 (ipykernel)",
   "language": "python",
   "name": "python3"
  },
  "language_info": {
   "codemirror_mode": {
    "name": "ipython",
    "version": 3
   },
   "file_extension": ".py",
   "mimetype": "text/x-python",
   "name": "python",
   "nbconvert_exporter": "python",
   "pygments_lexer": "ipython3",
   "version": "3.11.6"
  }
 },
 "nbformat": 4,
 "nbformat_minor": 5
}
