{
 "cells": [
  {
   "cell_type": "code",
   "execution_count": 1,
   "id": "initial_id",
   "metadata": {
    "ExecuteTime": {
     "end_time": "2024-02-13T14:53:30.147349408Z",
     "start_time": "2024-02-13T14:53:28.802881926Z"
    }
   },
   "outputs": [],
   "source": [
    "import os\n",
    "import sys\n",
    "from dotenv import find_dotenv\n",
    "\n",
    "root = os.path.dirname(find_dotenv())\n",
    "sys.path.append(root)\n",
    "\n",
    "files_dir = os.path.join(root, 'examples', 'files')\n",
    "apps_dir = os.path.join(root, 'examples' , 'apps')\n",
    "\n",
    "from aq import get_broker\n",
    "broker = get_broker()"
   ]
  },
  {
   "cell_type": "markdown",
   "source": [
    "Ask Gemini about the meaning of life:"
   ],
   "metadata": {
    "collapsed": false
   },
   "id": "b0ddb663c904fe86"
  },
  {
   "cell_type": "code",
   "execution_count": 2,
   "outputs": [
    {
     "ename": "FileNotFoundError",
     "evalue": "[Errno 2] No such file or directory: '/home/dmitri/Projects/vc_leads/examples/apps/meaning_of_life.yml'",
     "output_type": "error",
     "traceback": [
      "\u001B[0;31m---------------------------------------------------------------------------\u001B[0m",
      "\u001B[0;31mFileNotFoundError\u001B[0m                         Traceback (most recent call last)",
      "Cell \u001B[0;32mIn[2], line 1\u001B[0m\n\u001B[0;32m----> 1\u001B[0m \u001B[38;5;28;01mawait\u001B[39;00m broker\u001B[38;5;241m.\u001B[39mrun(app_file\u001B[38;5;241m=\u001B[39mos\u001B[38;5;241m.\u001B[39mpath\u001B[38;5;241m.\u001B[39mjoin(apps_dir, \u001B[38;5;124m\"\u001B[39m\u001B[38;5;124mmeaning_of_life.yml\u001B[39m\u001B[38;5;124m\"\u001B[39m),\n\u001B[1;32m      2\u001B[0m                  activity_name\u001B[38;5;241m=\u001B[39m\u001B[38;5;124m\"\u001B[39m\u001B[38;5;124mread_question\u001B[39m\u001B[38;5;124m\"\u001B[39m,\n\u001B[1;32m      3\u001B[0m                  file_path\u001B[38;5;241m=\u001B[39mos\u001B[38;5;241m.\u001B[39mpath\u001B[38;5;241m.\u001B[39mjoin(files_dir, \u001B[38;5;124m\"\u001B[39m\u001B[38;5;124mmeaning_of_life.txt\u001B[39m\u001B[38;5;124m\"\u001B[39m))\n",
      "File \u001B[0;32m~/Projects/vc_leads/pyaq/aq/broker.py:19\u001B[0m, in \u001B[0;36mSemanticBroker.run\u001B[0;34m(self, app_file, activity_name, file_path, inputs)\u001B[0m\n\u001B[1;32m     17\u001B[0m \u001B[38;5;28;01masync\u001B[39;00m \u001B[38;5;28;01mdef\u001B[39;00m \u001B[38;5;21mrun\u001B[39m(\u001B[38;5;28mself\u001B[39m, app_file: \u001B[38;5;28mstr\u001B[39m, activity_name: \u001B[38;5;28mstr\u001B[39m, file_path: \u001B[38;5;28mstr\u001B[39m \u001B[38;5;241m=\u001B[39m \u001B[38;5;28;01mNone\u001B[39;00m, inputs: Dict[\u001B[38;5;28mstr\u001B[39m, Any] \u001B[38;5;241m=\u001B[39m \u001B[38;5;28;01mNone\u001B[39;00m) \u001B[38;5;241m-\u001B[39m\u001B[38;5;241m>\u001B[39m Dict[\u001B[38;5;28mstr\u001B[39m, List[\u001B[38;5;28mstr\u001B[39m]]:\n\u001B[1;32m     18\u001B[0m     \u001B[38;5;66;03m# Load the app definition\u001B[39;00m\n\u001B[0;32m---> 19\u001B[0m     \u001B[38;5;28;01mwith\u001B[39;00m \u001B[38;5;28;43mopen\u001B[39;49m\u001B[43m(\u001B[49m\u001B[43mapp_file\u001B[49m\u001B[43m)\u001B[49m \u001B[38;5;28;01mas\u001B[39;00m def_file:\n\u001B[1;32m     20\u001B[0m         app_def \u001B[38;5;241m=\u001B[39m yaml\u001B[38;5;241m.\u001B[39msafe_load(def_file)\n\u001B[1;32m     21\u001B[0m     app \u001B[38;5;241m=\u001B[39m App(\u001B[38;5;241m*\u001B[39m\u001B[38;5;241m*\u001B[39mapp_def)\n",
      "\u001B[0;31mFileNotFoundError\u001B[0m: [Errno 2] No such file or directory: '/home/dmitri/Projects/vc_leads/examples/apps/meaning_of_life.yml'"
     ]
    }
   ],
   "source": [
    "await broker.run(app_file=os.path.join(apps_dir, \"meaning_of_life.yml\"),\n",
    "                 activity_name=\"read_question\",\n",
    "                 file_path=os.path.join(files_dir, \"meaning_of_life.txt\"))"
   ],
   "metadata": {
    "collapsed": false,
    "ExecuteTime": {
     "end_time": "2024-02-13T14:53:34.395125799Z",
     "start_time": "2024-02-13T14:53:34.119334245Z"
    }
   },
   "id": "3c00cc59ce8a931c"
  },
  {
   "cell_type": "markdown",
   "metadata": {},
   "source": [
    "Analyze a market report and recommend investment strategies:"
   ],
   "id": "4392ba0c11ec0697"
  },
  {
   "cell_type": "code",
   "execution_count": null,
   "id": "6b10725e62dd9c2",
   "metadata": {
    "collapsed": false
   },
   "outputs": [],
   "source": [
    "await broker.run(app_file=os.path.join(apps_dir, \"investments.yml\"), \n",
    "                 activity_name=\"read_content\", \n",
    "                 file_path=os.path.join(files_dir, \"report.pdf\"))"
   ]
  },
  {
   "cell_type": "markdown",
   "metadata": {},
   "source": [
    "Extract contact information from an email:"
   ],
   "id": "7ce45109cc89232c"
  },
  {
   "cell_type": "code",
   "execution_count": null,
   "id": "ec5834ab2c2d5878",
   "metadata": {
    "collapsed": false
   },
   "outputs": [],
   "source": [
    "await broker.run(app_file=os.path.join(apps_dir, \"extract.yml\"), \n",
    "                 activity_name=\"read_content\", \n",
    "                 file_path=os.path.join(files_dir, \"email.txt\"))"
   ]
  },
  {
   "cell_type": "markdown",
   "metadata": {},
   "source": [
    "Perform web search to enrich contacts with additional information: "
   ],
   "id": "b8729ebba6954abf"
  },
  {
   "cell_type": "code",
   "execution_count": null,
   "id": "6d42d79b0e67e86e",
   "metadata": {
    "collapsed": false
   },
   "outputs": [],
   "source": [
    "await broker.run(app_file=os.path.join(apps_dir, \"enrich.yml\"), \n",
    "                 activity_name=\"read_content\", \n",
    "                 file_path=os.path.join(files_dir, \"contacts.json\"))"
   ]
  },
  {
   "cell_type": "markdown",
   "metadata": {},
   "source": [
    "A simple RAG pipeline: \n",
    "1. Store a document in the app's memory \n",
    "2. Use the document to answer a question "
   ],
   "id": "d1bd02ef8573cda5"
  },
  {
   "cell_type": "code",
   "execution_count": null,
   "id": "4547160c642db744",
   "metadata": {
    "collapsed": false
   },
   "outputs": [],
   "source": [
    "# Store the report in app's memory \n",
    "await broker.run(app_file=os.path.join(apps_dir, \"rag.yml\"), \n",
    "                 activity_name=\"read_content\", \n",
    "                 file_path=os.path.join(files_dir, \"report.pdf\"))\n",
    "\n",
    "# Answer a question using data in the report \n",
    "await broker.run(app_file=os.path.join(apps_dir, \"rag.yml\"), \n",
    "                 activity_name=\"read_question\", \n",
    "                 file_path=os.path.join(files_dir, \"question.txt\"))"
   ]
  },
  {
   "cell_type": "markdown",
   "metadata": {},
   "source": [
    "Answer multiple questions by launching RAG tasks in parallel:"
   ],
   "id": "90883022de01af8"
  },
  {
   "cell_type": "code",
   "execution_count": null,
   "id": "2d4cfb4c",
   "metadata": {},
   "outputs": [],
   "source": [
    "# Store the report in app's memory \n",
    "await broker.run(app_file=os.path.join(apps_dir, \"qna.yml\"), \n",
    "                 activity_name=\"read_content\", \n",
    "                 file_path=os.path.join(files_dir, \"report.pdf\"))\n",
    "\n",
    "# Answer multiple questions using data in the report \n",
    "await broker.run(app_file=os.path.join(apps_dir, \"qna.yml\"), \n",
    "                 activity_name=\"read_questions\", \n",
    "                 file_path=os.path.join(files_dir, \"questions.json\"))"
   ]
  },
  {
   "cell_type": "markdown",
   "metadata": {},
   "source": [
    "The following cell requires an external REST service for mapping IP addresses to company information. "
   ],
   "id": "8bf76bb1456336fc"
  },
  {
   "cell_type": "code",
   "execution_count": null,
   "metadata": {},
   "outputs": [],
   "source": [
    "await broker.run(app_file=os.path.join(apps_dir, \"prospecting.yml\"), \n",
    "                 activity_name=\"read_request\", \n",
    "                 file_path=os.path.join(files_dir, \"prospecting.json\"))"
   ],
   "id": "78c1bc2fdcb2c65e"
  },
  {
   "cell_type": "markdown",
   "source": [
    "Create an insurance accident report based on the image of a damaged vehicle:"
   ],
   "metadata": {
    "collapsed": false
   },
   "id": "eeaa16c014b239ff"
  },
  {
   "cell_type": "code",
   "execution_count": null,
   "outputs": [],
   "source": [
    "await broker.run(app_file=os.path.join(apps_dir, \"accident_report.yml\"),\n",
    "                 activity_name=\"read_image\",\n",
    "                 file_path=os.path.join(files_dir, \"accident_report.jpg\"))"
   ],
   "metadata": {
    "collapsed": false
   },
   "id": "d288f81ff31f5dbc"
  }
 ],
 "metadata": {
  "kernelspec": {
   "display_name": "Python 3 (ipykernel)",
   "language": "python",
   "name": "python3"
  },
  "language_info": {
   "codemirror_mode": {
    "name": "ipython",
    "version": 3
   },
   "file_extension": ".py",
   "mimetype": "text/x-python",
   "name": "python",
   "nbconvert_exporter": "python",
   "pygments_lexer": "ipython3",
   "version": "3.11.6"
  }
 },
 "nbformat": 4,
 "nbformat_minor": 5
}
