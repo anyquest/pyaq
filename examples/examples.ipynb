{
 "cells": [
  {
   "cell_type": "code",
   "execution_count": null,
   "id": "initial_id",
   "metadata": {},
   "outputs": [],
   "source": [
    "import os\n",
    "import sys\n",
    "from dotenv import find_dotenv\n",
    "\n",
    "root = os.path.dirname(find_dotenv())\n",
    "sys.path.append(root)\n",
    "\n",
    "files_dir = os.path.join(root, 'examples', 'files')\n",
    "apps_dir = os.path.join(root, 'examples' , 'apps')\n",
    "\n",
    "from aq import get_broker\n",
    "broker = get_broker()"
   ]
  },
  {
   "cell_type": "markdown",
   "metadata": {},
   "source": [
    "Analyze a market report and recommend investment strategies:"
   ],
   "id": "4392ba0c11ec0697"
  },
  {
   "cell_type": "code",
   "execution_count": null,
   "id": "6b10725e62dd9c2",
   "metadata": {
    "collapsed": false
   },
   "outputs": [],
   "source": [
    "await broker.run(app_file=os.path.join(apps_dir, \"investments.yml\"), \n",
    "                 activity_name=\"read_content\", \n",
    "                 file_path=os.path.join(files_dir, \"report.pdf\"))"
   ]
  },
  {
   "cell_type": "markdown",
   "metadata": {},
   "source": [
    "Extract contact information from an email:"
   ],
   "id": "7ce45109cc89232c"
  },
  {
   "cell_type": "code",
   "execution_count": null,
   "id": "ec5834ab2c2d5878",
   "metadata": {
    "collapsed": false
   },
   "outputs": [],
   "source": [
    "await broker.run(app_file=os.path.join(apps_dir, \"extract.yml\"), \n",
    "                 activity_name=\"read_content\", \n",
    "                 file_path=os.path.join(files_dir, \"email.txt\"))"
   ]
  },
  {
   "cell_type": "markdown",
   "metadata": {},
   "source": [
    "Perform web search to enrich contacts with additional information: "
   ],
   "id": "b8729ebba6954abf"
  },
  {
   "cell_type": "code",
   "execution_count": null,
   "id": "6d42d79b0e67e86e",
   "metadata": {
    "collapsed": false
   },
   "outputs": [],
   "source": [
    "await broker.run(app_file=os.path.join(apps_dir, \"enrich.yml\"), \n",
    "                 activity_name=\"read_content\", \n",
    "                 file_path=os.path.join(files_dir, \"contacts.json\"))"
   ]
  },
  {
   "cell_type": "markdown",
   "metadata": {},
   "source": [
    "A simple RAG pipeline: \n",
    "1. Store a document in the app's memory \n",
    "2. Use the document to answer a question "
   ],
   "id": "d1bd02ef8573cda5"
  },
  {
   "cell_type": "code",
   "execution_count": null,
   "id": "4547160c642db744",
   "metadata": {
    "collapsed": false
   },
   "outputs": [],
   "source": [
    "# Store the report in app's memory \n",
    "await broker.run(app_file=os.path.join(apps_dir, \"rag.yml\"), \n",
    "                 activity_name=\"read_content\", \n",
    "                 file_path=os.path.join(files_dir, \"report.pdf\"))\n",
    "\n",
    "# Answer a question using data in the report \n",
    "await broker.run(app_file=os.path.join(apps_dir, \"rag.yml\"), \n",
    "                 activity_name=\"read_question\", \n",
    "                 file_path=os.path.join(files_dir, \"question.txt\"))"
   ]
  },
  {
   "cell_type": "markdown",
   "metadata": {},
   "source": [
    "Answer multiple questions by launching RAG tasks in parallel:"
   ],
   "id": "90883022de01af8"
  },
  {
   "cell_type": "code",
   "execution_count": null,
   "id": "2d4cfb4c",
   "metadata": {},
   "outputs": [],
   "source": [
    "# Store the report in app's memory \n",
    "await broker.run(app_file=os.path.join(apps_dir, \"qna.yml\"), \n",
    "                 activity_name=\"read_content\", \n",
    "                 file_path=os.path.join(files_dir, \"report.pdf\"))\n",
    "\n",
    "# Answer multiple questions using data in the report \n",
    "await broker.run(app_file=os.path.join(apps_dir, \"qna.yml\"), \n",
    "                 activity_name=\"read_questions\", \n",
    "                 file_path=os.path.join(files_dir, \"questions.json\"))"
   ]
  },
  {
   "cell_type": "markdown",
   "metadata": {},
   "source": [
    "The following cell requires an external REST service for mapping IP addresses to company information. "
   ],
   "id": "8bf76bb1456336fc"
  },
  {
   "cell_type": "code",
   "execution_count": null,
   "metadata": {},
   "outputs": [],
   "source": [
    "await broker.run(app_file=os.path.join(apps_dir, \"prospecting.yml\"), \n",
    "                 activity_name=\"read_request\", \n",
    "                 file_path=os.path.join(files_dir, \"prospecting.json\"))"
   ],
   "id": "78c1bc2fdcb2c65e"
  },
  {
   "cell_type": "markdown",
   "source": [
    "Create an insurance accident report based on the image of a damaged vehicle:"
   ],
   "metadata": {
    "collapsed": false
   },
   "id": "eeaa16c014b239ff"
  },
  {
   "cell_type": "code",
   "execution_count": null,
   "outputs": [],
   "source": [
    "await broker.run(app_file=os.path.join(apps_dir, \"accident_report.yml\"),\n",
    "                 activity_name=\"read_image\",\n",
    "                 file_path=os.path.join(files_dir, \"accident_report.jpg\"))"
   ],
   "metadata": {
    "collapsed": false
   },
   "id": "d288f81ff31f5dbc"
  }
 ],
 "metadata": {
  "kernelspec": {
   "display_name": "Python 3 (ipykernel)",
   "language": "python",
   "name": "python3"
  },
  "language_info": {
   "codemirror_mode": {
    "name": "ipython",
    "version": 3
   },
   "file_extension": ".py",
   "mimetype": "text/x-python",
   "name": "python",
   "nbconvert_exporter": "python",
   "pygments_lexer": "ipython3",
   "version": "3.11.6"
  }
 },
 "nbformat": 4,
 "nbformat_minor": 5
}
