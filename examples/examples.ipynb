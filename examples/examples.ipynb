{
 "cells": [
  {
   "cell_type": "code",
   "execution_count": null,
   "id": "initial_id",
   "metadata": {},
   "outputs": [],
   "source": [
    "import os\n",
    "import sys\n",
    "from dotenv import find_dotenv\n",
    "\n",
    "root = os.path.dirname(find_dotenv())\n",
    "sys.path.append(root)\n",
    "\n",
    "files_dir = os.path.join(root, 'examples', 'files')\n",
    "apps_dir = os.path.join(root, 'examples' , 'apps')\n",
    "docs_dir = os.path.join(root, 'docs')\n",
    "\n",
    "from aq import get_broker\n",
    "broker = get_broker()"
   ]
  },
  {
   "cell_type": "markdown",
   "id": "b0ddb663c904fe86",
   "metadata": {
    "collapsed": false
   },
   "source": [
    "Ask Gemini about the meaning of life:"
   ]
  },
  {
   "cell_type": "code",
   "execution_count": null,
   "id": "3c00cc59ce8a931c",
   "metadata": {
    "collapsed": false
   },
   "outputs": [],
   "source": [
    "await broker.run(app_file=os.path.join(apps_dir, \"meaning_of_life.yml\"),\n",
    "                 activity_name=\"read_question\",\n",
    "                 file_path=os.path.join(files_dir, \"meaning_of_life.txt\"))"
   ]
  },
  {
   "cell_type": "markdown",
   "id": "4392ba0c11ec0697",
   "metadata": {},
   "source": [
    "Analyze a market report and recommend investment strategies:"
   ]
  },
  {
   "cell_type": "code",
   "execution_count": null,
   "id": "6b10725e62dd9c2",
   "metadata": {
    "collapsed": false
   },
   "outputs": [],
   "source": [
    "await broker.run(app_file=os.path.join(apps_dir, \"investments.yml\"), \n",
    "                 activity_name=\"read_content\", \n",
    "                 file_path=os.path.join(files_dir, \"report.pdf\"))"
   ]
  },
  {
   "cell_type": "markdown",
   "id": "7ce45109cc89232c",
   "metadata": {},
   "source": [
    "Extract contact information from an email:"
   ]
  },
  {
   "cell_type": "code",
   "execution_count": null,
   "id": "ec5834ab2c2d5878",
   "metadata": {
    "collapsed": false
   },
   "outputs": [],
   "source": [
    "await broker.run(app_file=os.path.join(apps_dir, \"extract.yml\"), \n",
    "                 activity_name=\"read_content\", \n",
    "                 file_path=os.path.join(files_dir, \"email.txt\"))"
   ]
  },
  {
   "cell_type": "markdown",
   "id": "b8729ebba6954abf",
   "metadata": {},
   "source": [
    "Perform web search to enrich contacts with additional information: "
   ]
  },
  {
   "cell_type": "code",
   "execution_count": null,
   "id": "6d42d79b0e67e86e",
   "metadata": {
    "collapsed": false
   },
   "outputs": [],
   "source": [
    "await broker.run(app_file=os.path.join(apps_dir, \"enrich.yml\"), \n",
    "                 activity_name=\"read_content\", \n",
    "                 file_path=os.path.join(files_dir, \"contacts.json\"))"
   ]
  },
  {
   "cell_type": "markdown",
   "id": "d1bd02ef8573cda5",
   "metadata": {},
   "source": [
    "A simple RAG pipeline: \n",
    "1. Store a document in the app's memory \n",
    "2. Use the document to answer a question "
   ]
  },
  {
   "cell_type": "code",
   "execution_count": null,
   "id": "4547160c642db744",
   "metadata": {
    "collapsed": false
   },
   "outputs": [],
   "source": [
    "# Store the report in app's memory \n",
    "await broker.run(app_file=os.path.join(apps_dir, \"rag.yml\"), \n",
    "                 activity_name=\"read_content\", \n",
    "                 file_path=os.path.join(files_dir, \"report.pdf\"))\n",
    "\n",
    "# Answer a question using data in the report \n",
    "await broker.run(app_file=os.path.join(apps_dir, \"rag.yml\"), \n",
    "                 activity_name=\"read_question\", \n",
    "                 file_path=os.path.join(files_dir, \"question.txt\"))"
   ]
  },
  {
   "cell_type": "markdown",
   "id": "90883022de01af8",
   "metadata": {},
   "source": [
    "Answer multiple questions by launching RAG tasks in parallel:"
   ]
  },
  {
   "cell_type": "code",
   "execution_count": null,
   "id": "2d4cfb4c",
   "metadata": {},
   "outputs": [],
   "source": [
    "# Store the report in app's memory \n",
    "await broker.run(app_file=os.path.join(apps_dir, \"qna.yml\"), \n",
    "                 activity_name=\"read_content\", \n",
    "                 file_path=os.path.join(files_dir, \"report.pdf\"))\n",
    "\n",
    "# Answer multiple questions using data in the report \n",
    "await broker.run(app_file=os.path.join(apps_dir, \"qna.yml\"), \n",
    "                 activity_name=\"read_questions\", \n",
    "                 file_path=os.path.join(files_dir, \"questions.json\"))"
   ]
  },
  {
   "cell_type": "markdown",
   "id": "8bf76bb1456336fc",
   "metadata": {},
   "source": [
    "The following cell requires an external REST service for mapping IP addresses to company information. "
   ]
  },
  {
   "cell_type": "code",
   "execution_count": null,
   "id": "78c1bc2fdcb2c65e",
   "metadata": {},
   "outputs": [],
   "source": [
    "await broker.run(app_file=os.path.join(apps_dir, \"prospecting.yml\"), \n",
    "                 activity_name=\"read_request\", \n",
    "                 file_path=os.path.join(files_dir, \"prospecting.json\"))"
   ]
  },
  {
   "cell_type": "markdown",
   "id": "eeaa16c014b239ff",
   "metadata": {
    "collapsed": false
   },
   "source": [
    "Create an insurance accident report based on the image of a damaged vehicle:"
   ]
  },
  {
   "cell_type": "code",
   "execution_count": null,
   "id": "d288f81ff31f5dbc",
   "metadata": {
    "collapsed": false
   },
   "outputs": [],
   "source": [
    "await broker.run(app_file=os.path.join(apps_dir, \"accident_report.yml\"),\n",
    "                 activity_name=\"read_image\",\n",
    "                 file_path=os.path.join(files_dir, \"accident_report.jpg\"))"
   ]
  },
  {
   "cell_type": "code",
   "execution_count": null,
   "id": "5a38222f",
   "metadata": {},
   "outputs": [],
   "source": [
    "# Store PyAQ manual in app's memory \n",
    "await broker.run(app_file=os.path.join(apps_dir, \"metacode.yml\"), \n",
    "                 activity_name=\"read_content\", \n",
    "                 file_path=os.path.join(docs_dir, \"README.md\"))\n",
    "\n",
    "# Complete an assignment by writing a PyAQ script  \n",
    "await broker.run(app_file=os.path.join(apps_dir, \"metacode.yml\"), \n",
    "                 activity_name=\"read_assignment\", \n",
    "                 file_path=os.path.join(files_dir, \"assignment.txt\"))"
   ]
  }
 ],
 "metadata": {
  "kernelspec": {
   "display_name": "Python 3 (ipykernel)",
   "language": "python",
   "name": "python3"
  },
  "language_info": {
   "codemirror_mode": {
    "name": "ipython",
    "version": 3
   },
   "file_extension": ".py",
   "mimetype": "text/x-python",
   "name": "python",
   "nbconvert_exporter": "python",
   "pygments_lexer": "ipython3",
   "version": "3.11.6"
  }
 },
 "nbformat": 4,
 "nbformat_minor": 5
}
